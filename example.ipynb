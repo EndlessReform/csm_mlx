{
 "cells": [
  {
   "cell_type": "markdown",
   "metadata": {},
   "source": [
    "# Using the library\n",
    "\n",
    "## Basic usage"
   ]
  },
  {
   "cell_type": "code",
   "execution_count": null,
   "metadata": {},
   "outputs": [],
   "source": [
    "from csm_mlx.loaders import CSM\n",
    "import time\n",
    "\n",
    "load_start_time = time.time()\n",
    "model = CSM()\n",
    "load_end_time = time.time()"
   ]
  },
  {
   "cell_type": "markdown",
   "metadata": {},
   "source": [
    "This generates with a random speaker:"
   ]
  },
  {
   "cell_type": "code",
   "execution_count": null,
   "metadata": {},
   "outputs": [],
   "source": [
    "from IPython.display import Audio\n",
    "\n",
    "text = \"Hello, my name is John, and I like bread.\"\n",
    "pcm = model(text, 0, temp=1, backbone_min_p=0.05, use_last_gens=True)\n",
    "\n",
    "Audio(pcm.audio, rate=model.sampling_rate)"
   ]
  },
  {
   "cell_type": "markdown",
   "metadata": {},
   "source": [
    "Optional: save audio procedurally"
   ]
  },
  {
   "cell_type": "code",
   "execution_count": null,
   "metadata": {},
   "outputs": [],
   "source": [
    "from csm_mlx.io.wav import pcm_to_wav_bytes\n",
    "\n",
    "with open(\"out.wav\", \"wb\") as f:\n",
    "    f.write(pcm_to_wav_bytes(pcm))"
   ]
  },
  {
   "cell_type": "markdown",
   "metadata": {},
   "source": [
    "## Voice cloning"
   ]
  },
  {
   "cell_type": "markdown",
   "metadata": {},
   "source": [
    "Get your reference audio. WAV files only for now, sorry."
   ]
  },
  {
   "cell_type": "code",
   "execution_count": null,
   "metadata": {},
   "outputs": [],
   "source": [
    "from csm_mlx.loaders.csm import Segment\n",
    "import soundfile as sf\n",
    "from scipy.signal import resample\n",
    "import numpy as np\n",
    "\n",
    "def load_wav(path: str) -> np.ndarray:\n",
    "    data, sr = sf.read(path)\n",
    "    new_sample_rate = model.sampling_rate\n",
    "\n",
    "    num_samples = int(len(data) * new_sample_rate / sr)\n",
    "\n",
    "    # Resample using FFT-based method\n",
    "    return resample(data, num_samples)\n",
    "\n",
    "# Substitute with your segments as desired\n",
    "audio = Segment(\n",
    "    speaker=0,\n",
    "    text=\"When I heard the release demo, I was shocked, angered, and in disbelief that Mr. Altman would pursue a voice that sounded so eerily similar to mine that my closest friends and news outlets could not tell the difference.\",\n",
    "    audio=load_wav(\"./tests/sky.wav\")\n",
    ")\n",
    "context = [audio]"
   ]
  },
  {
   "cell_type": "code",
   "execution_count": null,
   "metadata": {},
   "outputs": [],
   "source": [
    "from IPython.display import Audio\n",
    "\n",
    "text = \"This is a test of tet to speech.\"\n",
    "pcm = model(text, 0, context=context, temp=1, backbone_min_p=0.1)\n",
    "\n",
    "Audio(pcm.audio, rate=model.sampling_rate)\n"
   ]
  },
  {
   "cell_type": "code",
   "execution_count": null,
   "metadata": {},
   "outputs": [],
   "source": [
    "text = \"This is a test of caching the previous mimi generations.\"\n",
    "pcm = model(text, 0, use_last_gens=True, temp=0.9)\n",
    "\n",
    "Audio(pcm.audio, rate=model.sampling_rate)"
   ]
  },
  {
   "cell_type": "markdown",
   "metadata": {},
   "source": [
    "## Streaming"
   ]
  },
  {
   "cell_type": "code",
   "execution_count": null,
   "metadata": {},
   "outputs": [],
   "source": [
    "from IPython.display import Audio\n",
    "import numpy as np\n",
    "\n",
    "# TODO block anyway, just testing correctness\n",
    "frames = [frame for frame in model.stream(\"Hello world, this is a test of streaming generation\", context=context, speaker_id=0, use_last_gens=True, temp=0.8)]\n",
    "\n",
    "Audio(np.array(frames).flatten(), rate=model.sampling_rate)"
   ]
  }
 ],
 "metadata": {
  "kernelspec": {
   "display_name": ".venv",
   "language": "python",
   "name": "python3"
  },
  "language_info": {
   "codemirror_mode": {
    "name": "ipython",
    "version": 3
   },
   "file_extension": ".py",
   "mimetype": "text/x-python",
   "name": "python",
   "nbconvert_exporter": "python",
   "pygments_lexer": "ipython3",
   "version": "3.13.2"
  }
 },
 "nbformat": 4,
 "nbformat_minor": 2
}
