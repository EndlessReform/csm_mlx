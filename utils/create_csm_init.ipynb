{
 "cells": [
  {
   "cell_type": "markdown",
   "metadata": {},
   "source": [
    "# CSM checkpoint conversion script to Fish format\n",
    "\n",
    "Before running this, set `HUGGINGFACE_TOKEN` in a .env file in this repo somewhere. Make sure you're approved for the official checkpoint."
   ]
  },
  {
   "cell_type": "code",
   "execution_count": null,
   "metadata": {},
   "outputs": [],
   "source": [
    "import torch\n",
    "from safetensors.torch import save_file\n",
    "from dotenv import load_dotenv\n",
    "from huggingface_hub import hf_hub_download, snapshot_download\n",
    "from pathlib import Path\n",
    "import os\n",
    "\n",
    "load_dotenv()\n",
    "model_path = hf_hub_download(\n",
    "    repo_id=\"sesame/csm-1b\",\n",
    "    filename=\"ckpt.pt\",\n",
    "    token=os.getenv(\"HUGGINGFACE_TOKEN\")\n",
    ")\n",
    "config_dir = snapshot_download(\n",
    "    repo_id=\"unsloth/Llama-3.2-1B\",\n",
    "    ignore_patterns=[\"model.safetensors\"]\n",
    ")\n",
    "config_path = Path(config_dir)"
   ]
  },
  {
   "cell_type": "code",
   "execution_count": null,
   "metadata": {},
   "outputs": [],
   "source": [
    "state_dict = torch.load(model_path, map_location=\"cpu\")\n",
    "for name, param in state_dict.items():\n",
    "    print(f\"{name}: {param.shape}\")\n"
   ]
  },
  {
   "cell_type": "code",
   "execution_count": null,
   "metadata": {},
   "outputs": [],
   "source": [
    "renamed_tensors = {\n",
    "    key.replace('backbone.', '')\n",
    "        .replace('decoder.layers', 'fast_layers')\n",
    "        .replace('attn', 'attention')       \n",
    "        .replace('k_proj', 'wk')\n",
    "        .replace('q_proj', 'wq')\n",
    "        .replace('v_proj', 'wv')\n",
    "        .replace('output_proj', 'wo')\n",
    "        .replace('sa_norm.scale', 'attention_norm.weight')\n",
    "        .replace('mlp.', 'feed_forward.')\n",
    "        .replace('mlp_norm.scale', 'ffn_norm.weight')\n",
    "        .replace('norm.scale', 'norm.weight')\n",
    "        .replace('decoder.norm.weight', 'fast_norm.weight')\n",
    "        .replace('audio_embeddings', 'codebook_embeddings')\n",
    "        .replace('text_embeddings', 'embeddings')\n",
    "        .replace('projection', 'fast_project_in')\n",
    "    : tensor\n",
    "\n",
    "    for key, tensor in state_dict.items()\n",
    "}\n",
    "list(renamed_tensors.keys())"
   ]
  },
  {
   "cell_type": "code",
   "execution_count": null,
   "metadata": {},
   "outputs": [],
   "source": [
    "import re\n",
    "\n",
    "def merge_attention_weights(state_dict):\n",
    "    # This regex captures any key ending with .attention.{wq|wk|wv}.weight\n",
    "    pattern = re.compile(r\"^(.*\\.attention)\\.(wq|wk|wv)\\.weight$\")\n",
    "    \n",
    "    # New state dict we'll build up\n",
    "    new_state_dict = {}\n",
    "    \n",
    "    # Group keys by their common prefix (like \"layers.0.attention\" or \"fast_layers.1.attention\")\n",
    "    attention_groups = {}\n",
    "    \n",
    "    for key, value in state_dict.items():\n",
    "        match = pattern.match(key)\n",
    "        if match:\n",
    "            base = match.group(1)    # e.g., \"layers.0.attention\"\n",
    "            sub_key = match.group(2) # one of \"wq\", \"wk\", or \"wv\"\n",
    "            if base not in attention_groups:\n",
    "                attention_groups[base] = {}\n",
    "            attention_groups[base][sub_key] = value\n",
    "        else:\n",
    "            # All keys that are not attention weights are copied as-is.\n",
    "            new_state_dict[key] = value\n",
    "\n",
    "    # For each group, if we have all three weights, merge them\n",
    "    for base, sub_dict in attention_groups.items():\n",
    "        if all(k in sub_dict for k in [\"wq\", \"wk\", \"wv\"]):\n",
    "            # Concatenate along dimension 0 (this assumes the weights are shaped like [out_features, in_features])\n",
    "            merged_weight = torch.cat([sub_dict[\"wq\"], sub_dict[\"wk\"], sub_dict[\"wv\"]], dim=0)\n",
    "            new_key = base + \".wqkv.weight\"\n",
    "            new_state_dict[new_key] = merged_weight\n",
    "        else:\n",
    "            # If one or more keys are missing, copy what we have.\n",
    "            for sub_key, value in sub_dict.items():\n",
    "                new_state_dict[f\"{base}.{sub_key}.weight\"] = value\n",
    "\n",
    "    return new_state_dict\n",
    "\n",
    "wqkv_dict = merge_attention_weights(renamed_tensors)\n",
    "list(wqkv_dict.keys())"
   ]
  },
  {
   "cell_type": "code",
   "execution_count": null,
   "metadata": {},
   "outputs": [],
   "source": [
    "import json\n",
    "with open(config_path / 'config.json') as f:\n",
    "    hf_config = json.load(f)\n",
    "\n",
    "print(json.dumps(hf_config, indent=2))"
   ]
  },
  {
   "cell_type": "code",
   "execution_count": null,
   "metadata": {},
   "outputs": [],
   "source": [
    "# TODO this could cause problems later\n",
    "CODEBOOK_SIZE=2051\n",
    "\n",
    "config = {\n",
    "    \"attention_qkv_bias\": False,\n",
    "    \"codebook_size\": CODEBOOK_SIZE,\n",
    "    \"dim\": 2048,\n",
    "    'dropout': 0.0,\n",
    "    'fast_attention_qkv_bias': False,\n",
    "    'fast_dim': 1024,\n",
    "    'fast_intermediate_size': 8192,\n",
    "    'fast_head_dim': 128,\n",
    "    'fast_n_head': 8,\n",
    "    'fast_n_local_heads': 2,\n",
    "    'n_fast_layer': 4,\n",
    "    'head_dim': hf_config['head_dim'],\n",
    "    \"initializer_range\": hf_config['initializer_range'],\n",
    "    'intermediate_size': hf_config['intermediate_size'],\n",
    "    \"is_reward_model\": False,\n",
    "    \"max_seq_len\": 2048,\n",
    "    \"model_type\": \"csm\",\n",
    "    \"n_head\": hf_config['num_attention_heads'],\n",
    "    \"norm_eps\": hf_config['rms_norm_eps'],\n",
    "    \"n_layer\": hf_config['num_hidden_layers'],\n",
    "    \"n_local_heads\": hf_config['num_key_value_heads'],\n",
    "    \"num_codebooks\": 32,\n",
    "    \"rope_base\": 500_000,\n",
    "    \"scale_codebook_embeddings\": False,\n",
    "    \"share_codebook_embeddings\": True,\n",
    "    \"use_gradient_checkpointing\": False,\n",
    "    \"vocab_size\": hf_config['vocab_size'],\n",
    "    \"rope_scaling\": hf_config['rope_scaling']\n",
    "}\n",
    "\n",
    "out_dir = Path(\"../inits/csm_1b\")\n",
    "os.makedirs(out_dir, exist_ok=True)\n",
    "# Save config\n",
    "with open(out_dir / \"config.json\", \"w\") as f:\n",
    "    json.dump(config, f, indent=2)"
   ]
  },
  {
   "cell_type": "code",
   "execution_count": null,
   "metadata": {},
   "outputs": [],
   "source": [
    "save_file(wqkv_dict, str(out_dir / \"model.safetensors\"))"
   ]
  },
  {
   "cell_type": "markdown",
   "metadata": {},
   "source": [
    "## Tokenizer shenanigans"
   ]
  },
  {
   "cell_type": "code",
   "execution_count": null,
   "metadata": {},
   "outputs": [],
   "source": [
    "from transformers import AutoTokenizer\n",
    "from tokenizers.processors import TemplateProcessing\n",
    "\n",
    "# Copying from official repo `generator.py`\n",
    "tokenizer_name = \"unsloth/Llama-3.2-1B\"\n",
    "tokenizer = AutoTokenizer.from_pretrained(tokenizer_name)\n",
    "bos = tokenizer.bos_token\n",
    "eos = tokenizer.eos_token\n",
    "tokenizer._tokenizer.post_processor = TemplateProcessing(\n",
    "    single=f\"{bos}:0 $A:0 {eos}:0\",\n",
    "    pair=f\"{bos}:0 $A:0 {eos}:0 {bos}:1 $B:1 {eos}:1\",\n",
    "    special_tokens=[\n",
    "        (f\"{bos}\", tokenizer.bos_token_id),\n",
    "        (f\"{eos}\", tokenizer.eos_token_id),\n",
    "    ],\n",
    ")\n",
    "tokenizer.save_pretrained(out_dir)"
   ]
  }
 ],
 "metadata": {
  "kernelspec": {
   "display_name": ".venv",
   "language": "python",
   "name": "python3"
  },
  "language_info": {
   "codemirror_mode": {
    "name": "ipython",
    "version": 3
   },
   "file_extension": ".py",
   "mimetype": "text/x-python",
   "name": "python",
   "nbconvert_exporter": "python",
   "pygments_lexer": "ipython3",
   "version": "3.13.2"
  }
 },
 "nbformat": 4,
 "nbformat_minor": 2
}
